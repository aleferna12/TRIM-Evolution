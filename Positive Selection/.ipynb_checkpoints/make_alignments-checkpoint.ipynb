{
 "cells": [
  {
   "cell_type": "code",
   "execution_count": 27,
   "id": "0fca3448-aab5-4e31-b7fe-ab5bb29c7f68",
   "metadata": {},
   "outputs": [],
   "source": [
    "import os\n",
    "import pandas as pd\n",
    "from skbio import read, write, Protein"
   ]
  },
  {
   "cell_type": "code",
   "execution_count": 28,
   "id": "2fe1f8ca-b866-4d55-a5fb-a92ccd3fee3c",
   "metadata": {},
   "outputs": [],
   "source": [
    "aa_seqs = list(read(\"../final_seqs.fasta\", format=\"fasta\"))\n",
    "df = pd.read_csv(\"../cluster_seqs.csv\", sep=';', index_col=0)\n",
    "df = df[df[\"TreeStatus\"].str.contains(\"INCLUDED\")]"
   ]
  },
  {
   "cell_type": "code",
   "execution_count": 29,
   "id": "1eeb1104-4426-4e2f-a874-c6f70ae0bca7",
   "metadata": {},
   "outputs": [],
   "source": [
    "trims = {\"TRIM6\": [],\n",
    "         \"TRIM34\": [],\n",
    "         \"TRIM5\": [],\n",
    "         \"TRIM22\": []}\n",
    "for seq in aa_seqs:\n",
    "    seq_id = seq.metadata[\"id\"]\n",
    "    trim = df.loc[seq_id, \"TreeAnnotation\"]\n",
    "    trims[trim].append(seq)"
   ]
  },
  {
   "cell_type": "code",
   "execution_count": 31,
   "id": "63d1e0d6-8bfe-48be-8ebe-40e73436225f",
   "metadata": {},
   "outputs": [],
   "source": [
    "for trim, seqs in trims.items():\n",
    "    raw_seq_path = f\"Sequences/{trim.lower()}_seqs.fasta\"\n",
    "    write((seq for seq in seqs), format=\"fasta\", into=raw_seq_path)\n",
    "    os.system(f\"clustalo --force -i {raw_seq_path} -o Sequences/{trim.lower()}_align.fasta\")"
   ]
  },
  {
   "cell_type": "code",
   "execution_count": null,
   "id": "a8e1732c-ea4b-4d6d-9819-81149eba7906",
   "metadata": {},
   "outputs": [],
   "source": []
  }
 ],
 "metadata": {
  "kernelspec": {
   "display_name": "Python 3 (ipykernel)",
   "language": "python",
   "name": "python3"
  },
  "language_info": {
   "codemirror_mode": {
    "name": "ipython",
    "version": 3
   },
   "file_extension": ".py",
   "mimetype": "text/x-python",
   "name": "python",
   "nbconvert_exporter": "python",
   "pygments_lexer": "ipython3",
   "version": "3.10.5"
  }
 },
 "nbformat": 4,
 "nbformat_minor": 5
}
