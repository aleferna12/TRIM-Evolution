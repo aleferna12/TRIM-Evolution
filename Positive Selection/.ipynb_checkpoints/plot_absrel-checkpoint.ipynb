{
 "cells": [
  {
   "cell_type": "code",
   "execution_count": 2,
   "id": "6b592f3b-b782-44a2-8fb1-5a130496e6bf",
   "metadata": {},
   "outputs": [],
   "source": [
    "import json\n",
    "from ete3 import Tree, TreeStyle"
   ]
  },
  {
   "cell_type": "code",
   "execution_count": 13,
   "id": "850fcb22-7f5e-4f3d-ace7-51cbf8d66a8d",
   "metadata": {},
   "outputs": [],
   "source": [
    "P_THRESHOLD = 0.05"
   ]
  },
  {
   "cell_type": "code",
   "execution_count": 11,
   "id": "e6dea716-e7df-4504-beb1-b740109bfdc2",
   "metadata": {},
   "outputs": [],
   "source": [
    "with open(\"absrel_trim5.json\") as file:\n",
    "    trim5_res = json.load(file)\n",
    "trim5_stats = trim5_res[\"branch attributes\"][\"0\"]\n",
    "tree = Tree(trim5_res[\"input\"][\"trees\"][\"0\"] + \";\", format=1)\n",
    "colors = [\"#0000ff\", \"#808080\", \"#ff0000\"]"
   ]
  },
  {
   "cell_type": "code",
   "execution_count": 9,
   "id": "34fe6c6e-7396-48e1-ae49-bc8091b6e24a",
   "metadata": {},
   "outputs": [
    {
     "ename": "SyntaxError",
     "evalue": "incomplete input (1469885106.py, line 1)",
     "output_type": "error",
     "traceback": [
      "\u001b[1;36m  Input \u001b[1;32mIn [9]\u001b[1;36m\u001b[0m\n\u001b[1;33m    for node in tree.traverse():\u001b[0m\n\u001b[1;37m                                ^\u001b[0m\n\u001b[1;31mSyntaxError\u001b[0m\u001b[1;31m:\u001b[0m incomplete input\n"
     ]
    }
   ],
   "source": [
    "for node in tree.traverse():\n",
    "    if trim5_stats[node.name][\"Corrected P-value\"] <= P_THRESHOLD:\n",
    "        "
   ]
  },
  {
   "cell_type": "code",
   "execution_count": null,
   "id": "262c6aa0-aa29-402f-8c52-1cc33d5607a3",
   "metadata": {},
   "outputs": [],
   "source": []
  }
 ],
 "metadata": {
  "kernelspec": {
   "display_name": "Python 3 (ipykernel)",
   "language": "python",
   "name": "python3"
  },
  "language_info": {
   "codemirror_mode": {
    "name": "ipython",
    "version": 3
   },
   "file_extension": ".py",
   "mimetype": "text/x-python",
   "name": "python",
   "nbconvert_exporter": "python",
   "pygments_lexer": "ipython3",
   "version": "3.10.5"
  }
 },
 "nbformat": 4,
 "nbformat_minor": 5
}
