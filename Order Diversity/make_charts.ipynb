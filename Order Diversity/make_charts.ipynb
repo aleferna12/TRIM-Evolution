{
 "cells": [
  {
   "cell_type": "code",
   "execution_count": 1,
   "id": "a4eb898f-4faf-4110-a21c-ff0af4c0c604",
   "metadata": {},
   "outputs": [],
   "source": [
    "import matplotlib.pyplot as plt\n",
    "import plotly.graph_objects as go\n",
    "import plotly.express as px\n",
    "from plotly.subplots import make_subplots\n",
    "import numpy as np\n",
    "import pandas as pd\n",
    "import statsmodels.api as sm\n",
    "from scipy import stats\n",
    "from colorir import *"
   ]
  },
  {
   "cell_type": "code",
   "execution_count": 2,
   "id": "d2c475ee-f5c0-4951-a361-4c36fb2c37ff",
   "metadata": {},
   "outputs": [],
   "source": [
    "orders = \"Primates, Rodentia, Chiroptera, Artiodactyla, Carnivora, Lagomorpha, Perissodactyla, Pilosa, Macroscelidea, Sirenia, Eulipotyphla, Pholidota, Others\"\n",
    "orders = orders.split(\", \")\n",
    "sp_richness = [518, 2552, 1386, 551, 305, 98, 21, 10, 20, 5, 527, 8]\n",
    "sp_total = 6111\n",
    "sp_richness.append(6111 - sum(sp_richness))\n",
    "data = dict(sorted(zip(orders, sp_richness), key=lambda t: -t[1]))"
   ]
  },
  {
   "cell_type": "code",
   "execution_count": 3,
   "id": "e828ebef-5e56-4473-b7a7-dd4aca3471f7",
   "metadata": {},
   "outputs": [
    {
     "data": {
      "text/plain": [
       "[\u001b[48;2;251;128;114m   \u001b[0m\u001b[38;2;251;128;114m #fb8072\u001b[0m,\n",
       " \u001b[48;2;253;180;98m   \u001b[0m\u001b[38;2;253;180;98m #fdb462\u001b[0m,\n",
       " \u001b[48;2;255;237;111m   \u001b[0m\u001b[38;2;255;237;111m #ffed6f\u001b[0m,\n",
       " \u001b[48;2;255;255;179m   \u001b[0m\u001b[38;2;255;255;179m #ffffb3\u001b[0m,\n",
       " \u001b[48;2;179;222;105m   \u001b[0m\u001b[38;2;179;222;105m #b3de69\u001b[0m,\n",
       " \u001b[48;2;204;235;197m   \u001b[0m\u001b[38;2;204;235;197m #ccebc5\u001b[0m,\n",
       " \u001b[48;2;141;211;199m   \u001b[0m\u001b[38;2;141;211;199m #8dd3c7\u001b[0m,\n",
       " \u001b[48;2;128;177;211m   \u001b[0m\u001b[38;2;128;177;211m #80b1d3\u001b[0m,\n",
       " \u001b[48;2;188;128;189m   \u001b[0m\u001b[38;2;188;128;189m #bc80bd\u001b[0m,\n",
       " \u001b[48;2;252;90;141m   \u001b[0m\u001b[38;2;252;90;141m #fc5a8d\u001b[0m,\n",
       " \u001b[48;2;255;150;185m   \u001b[0m\u001b[38;2;255;150;185m #ff96b9\u001b[0m,\n",
       " \u001b[48;2;252;205;229m   \u001b[0m\u001b[38;2;252;205;229m #fccde5\u001b[0m,\n",
       " 'rgba(0, 0, 0, 0.2)']"
      ]
     },
     "execution_count": 3,
     "metadata": {},
     "output_type": "execute_result"
    }
   ],
   "source": [
    "colors = Palette.load()\n",
    "pal = StackPalette.load(\"set3\")\n",
    "pal = sorted(pal, key=hue_sort_key(gray_start=False))\n",
    "pal += Grad([colors.strawberry, pal[-2]]).n_colors(3)\n",
    "pal.append(\"rgba(0, 0, 0, 0.2)\")\n",
    "del pal[10:12]\n",
    "del pal[8]\n",
    "pal"
   ]
  },
  {
   "cell_type": "markdown",
   "id": "5549378c-1101-4f0a-9948-3f329c6531f1",
   "metadata": {
    "jp-MarkdownHeadingCollapsed": true,
    "tags": []
   },
   "source": [
    "## Correlation plot with duplications"
   ]
  },
  {
   "cell_type": "code",
   "execution_count": 4,
   "id": "8db637cf-e27b-4ab0-96f3-71ea3db18590",
   "metadata": {},
   "outputs": [],
   "source": [
    "corr_data = {k: [v] for k, v in data.items()}\n",
    "del corr_data[\"Others\"]\n",
    "corr_data[\"Pilosa\"].append(2)\n",
    "corr_data[\"Macroscelidea\"].append(0)\n",
    "corr_data[\"Sirenia\"].append(1)\n",
    "corr_data[\"Lagomorpha\"].append(1)\n",
    "corr_data[\"Rodentia\"].append((2 + 1  + 3 + 7 + 7 + 4 + 6 + 6) / 8)\n",
    "corr_data[\"Primates\"].append(1)\n",
    "corr_data[\"Eulipotyphla\"].append(1)\n",
    "corr_data[\"Chiroptera\"].append((0 + 1 + 2 + 5) / 5)\n",
    "corr_data[\"Perissodactyla\"].append(3)\n",
    "corr_data[\"Artiodactyla\"].append((1 + 1 + 2 + 5 + 5 + 2) / 10)\n",
    "corr_data[\"Pholidota\"].append(1)\n",
    "corr_data[\"Carnivora\"].append((1 + 1 + 1 + 1 + 1 + 1 + 1) / 11)\n",
    "corr_df = pd.DataFrame.from_dict(\n",
    "    corr_data, \n",
    "    orient=\"index\",\n",
    "    columns=[\"# of species\", \"Avg. duplications\"]\n",
    ")\n",
    "corr_df = corr_df.reset_index().rename(columns={\"index\": \"Order\"})\n",
    "corr_df[\"Color\"] = pal[:-1]"
   ]
  },
  {
   "cell_type": "code",
   "execution_count": 5,
   "id": "24e2fa54-f1a5-4fe0-b20f-a8f9d5619af8",
   "metadata": {},
   "outputs": [
    {
     "data": {
      "text/plain": [
       "(0.6825426847643353, 0.014453410595422392)"
      ]
     },
     "execution_count": 5,
     "metadata": {},
     "output_type": "execute_result"
    }
   ],
   "source": [
    "stats.pearsonr(corr_df[\"# of species\"], corr_df[\"Avg. duplications\"])"
   ]
  },
  {
   "cell_type": "code",
   "execution_count": 6,
   "id": "9e99cec0-789e-4f09-a48b-b106bb82265e",
   "metadata": {},
   "outputs": [],
   "source": [
    "X = sm.add_constant(corr_df[\"# of species\"].values)\n",
    "model = sm.OLS(corr_df[\"Avg. duplications\"].values, X)\n",
    "est = model.fit()\n",
    "out = est.conf_int(alpha=0.05, cols=None)\n",
    "pred = est.get_prediction(X).summary_frame()"
   ]
  },
  {
   "cell_type": "code",
   "execution_count": 7,
   "id": "6a55f245-02a4-448d-99c2-563dda283ab7",
   "metadata": {},
   "outputs": [],
   "source": [
    "x = list(corr_df[\"# of species\"].values)\n",
    "y_l = list(pred[\"mean_ci_lower\"].values)\n",
    "y_u = list(pred[\"mean_ci_upper\"].values)\n",
    "error_trace = go.Scatter(\n",
    "    x=x + x[::-1],\n",
    "    y=y_u + y_l[::-1],\n",
    "    fill='toself',\n",
    "    fillcolor='rgba(0, 0, 0, 0.1)',\n",
    "    line=dict(color='rgba(0, 0, 0, 0)'),\n",
    "    hoverinfo=\"skip\"\n",
    ")"
   ]
  },
  {
   "cell_type": "code",
   "execution_count": 8,
   "id": "e6809dc6-f05c-4ff5-a70f-3415e67a4b0b",
   "metadata": {},
   "outputs": [],
   "source": [
    "# Get scatter traces\n",
    "scat_traces = (error_trace,)\n",
    "fig = px.scatter(\n",
    "    corr_df,\n",
    "    x=\"# of species\", \n",
    "    y=\"Avg. duplications\",\n",
    "    color=\"Color\",\n",
    "    color_discrete_map=\"identity\",\n",
    "    hover_data=[\"Order\"],\n",
    "    trendline=\"ols\",\n",
    "    trendline_color_override=pal[-1],\n",
    "    trendline_scope=\"overall\"\n",
    ")\n",
    "fig.update_traces(marker_size=12, marker_line_width=0.5)\n",
    "scat_traces += fig.data"
   ]
  },
  {
   "cell_type": "markdown",
   "id": "9a88dd4a-846b-4b13-a024-f43382c1ca4b",
   "metadata": {
    "tags": []
   },
   "source": [
    "## ERVs in orders"
   ]
  },
  {
   "cell_type": "code",
   "execution_count": 9,
   "id": "aeed9e77-d106-43b1-b3ae-02a0263786b1",
   "metadata": {},
   "outputs": [],
   "source": [
    "corr_df[\"Raw ERVs\"] = [\n",
    "    [822, 2072, 203, 4387, 1141, 757],\n",
    "    [267, 212\n",
    "],\n",
    "    [783, 539, 78, 189, 26],\n",
    "    [2115, 274],\n",
    "    [1608, 834, 958, 817, 601, 323, 939, 625, 612, 359, 209, 246, 493],\n",
    "    [198, 47, 103, 258],\n",
    "    [204, 289],\n",
    "    [191, 222],\n",
    "    None,\n",
    "    [51],\n",
    "    None,\n",
    "    [663]\n",
    "]\n",
    "corr_df[\"ERVs\"] = [max(erv) if erv is not None else None for erv in corr_df[\"Raw ERVs\"]]\n",
    "erv_df = corr_df[corr_df[\"ERVs\"].notna()]\n",
    "erv_df.reset_index(inplace=True)"
   ]
  },
  {
   "cell_type": "code",
   "execution_count": 10,
   "id": "4ec40372-5698-4a19-8810-229f8fc889d4",
   "metadata": {},
   "outputs": [
    {
     "data": {
      "text/plain": [
       "(0.7908776934993673, 0.006444960520132772)"
      ]
     },
     "execution_count": 10,
     "metadata": {},
     "output_type": "execute_result"
    }
   ],
   "source": [
    "stats.pearsonr(erv_df[\"# of species\"], erv_df[\"ERVs\"])"
   ]
  },
  {
   "cell_type": "code",
   "execution_count": 11,
   "id": "14775bc3-5ef9-4c90-b6dd-0514c2a77c4e",
   "metadata": {},
   "outputs": [],
   "source": [
    "X = sm.add_constant(erv_df[\"# of species\"].values)\n",
    "model = sm.OLS(erv_df[\"ERVs\"].values, X)\n",
    "est = model.fit()\n",
    "out = est.conf_int(alpha=0.05, cols=None)\n",
    "pred = est.get_prediction(X).summary_frame()"
   ]
  },
  {
   "cell_type": "code",
   "execution_count": 12,
   "id": "89785f4a-93c0-4ff4-adee-b483e6edca3a",
   "metadata": {},
   "outputs": [],
   "source": [
    "x = list(erv_df[\"# of species\"].values)\n",
    "y_l = list(pred[\"mean_ci_lower\"].values)\n",
    "y_u = list(pred[\"mean_ci_upper\"].values)\n",
    "error_trace = go.Scatter(\n",
    "    x=x + x[::-1],\n",
    "    y=y_u + y_l[::-1],\n",
    "    fill='toself',\n",
    "    fillcolor='rgba(0, 0, 0, 0.1)',\n",
    "    line=dict(color='rgba(0, 0, 0, 0)'),\n",
    "    hoverinfo=\"skip\"\n",
    ")"
   ]
  },
  {
   "cell_type": "code",
   "execution_count": 13,
   "id": "59cc72c5-a6e6-4b23-a9ce-0135ea5dfc3e",
   "metadata": {},
   "outputs": [
    {
     "data": {
      "text/html": [
       "<iframe\n",
       "    scrolling=\"no\"\n",
       "    width=\"820px\"\n",
       "    height=\"820\"\n",
       "    src=\"iframe_figures/figure_13.html\"\n",
       "    frameborder=\"0\"\n",
       "    allowfullscreen\n",
       "></iframe>\n"
      ]
     },
     "metadata": {},
     "output_type": "display_data"
    }
   ],
   "source": [
    "erv_traces = (error_trace,)\n",
    "erv_fig = px.scatter(\n",
    "    erv_df,\n",
    "    x=\"# of species\",\n",
    "    y=\"ERVs\",\n",
    "    color=\"Color\",\n",
    "    color_discrete_sequence=erv_df[\"Color\"],\n",
    "    trendline=\"ols\",\n",
    "    trendline_scope=\"overall\",\n",
    "    trendline_color_override=pal[-1],\n",
    "    hover_data=[\"Order\"],\n",
    "    template=\"plotly_white\"\n",
    ")\n",
    "erv_fig.update_traces(marker_size=12, marker_line_width=0.5)\n",
    "erv_traces += erv_fig.data\n",
    "\n",
    "fig = make_subplots(2, 1, shared_xaxes=True, x_title=\"# of species\", vertical_spacing=0.03)\n",
    "for trace in erv_traces:\n",
    "    fig.add_trace(trace, row=1, col=1)\n",
    "for trace in scat_traces:\n",
    "    fig.add_trace(trace, row=2, col=1)\n",
    "    \n",
    "fig.update_layout(\n",
    "    showlegend=False,\n",
    "    width=800,\n",
    "    height=800,\n",
    "    template=\"plotly_white\"\n",
    ")\n",
    "fig.update_yaxes(title=\"ERVs\", row=1, col=1)\n",
    "fig.update_yaxes(title=\"Avg. # of duplications\", row=2, col=1)\n",
    "fig.show(\"iframe\")\n",
    "fig.write_image(\"diversity_corr.pdf\")"
   ]
  },
  {
   "cell_type": "markdown",
   "id": "49350e2e-4723-4688-86e2-a79d033728b5",
   "metadata": {
    "tags": []
   },
   "source": [
    "## Waffle chart"
   ]
  },
  {
   "cell_type": "code",
   "execution_count": 14,
   "id": "c2e9aead-1b54-45f3-bc6d-e6bc1832c3f5",
   "metadata": {},
   "outputs": [
    {
     "name": "stdout",
     "output_type": "stream",
     "text": [
      "11 Rodentia \t 79\n",
      "10 Chiroptera \t 43\n",
      "9 Artiodactyla \t 17\n",
      "8 Eulipotyphla \t 16\n",
      "7 Primates \t 16\n",
      "6 Carnivora \t 9\n",
      "5 Lagomorpha \t 3\n",
      "4 Perissodactyla \t 1\n",
      "3 Macroscelidea \t 1\n",
      "2 Pil + Pho + Sir \t 1\n",
      "1 Others \t 3\n"
     ]
    }
   ],
   "source": [
    "w = 21\n",
    "h = 9\n",
    "st = w * h\n",
    "m = np.zeros(st, dtype=int)\n",
    "\n",
    "new_data = {}\n",
    "other_l, other_v = [], 0\n",
    "# Filter small groups\n",
    "for k, v in list(data.items()):\n",
    "    sqs = round(st * v / sp_total)\n",
    "    if sqs < 1:\n",
    "        other_l.append(k[:3])\n",
    "        other_v += v\n",
    "    else:\n",
    "        new_data[k] = v\n",
    "new_data[\" + \".join(other_l)] = other_v\n",
    "        \n",
    "def sort_key(k):\n",
    "    if k == \"Others\":\n",
    "        return 2\n",
    "    if \"+\" in k:\n",
    "        return 1\n",
    "    return -new_data[k]\n",
    "        \n",
    "new_data = {k: new_data[k] for k in sorted(new_data, key=sort_key)}\n",
    "\n",
    "i = 0\n",
    "for j, k in zip(range(len(new_data), 0, -1), new_data.keys()):\n",
    "    v = new_data[k]\n",
    "    sqs = round(st * v / sp_total)\n",
    "    m[i:i + sqs] = j\n",
    "    print(j, k, '\\t', sqs)\n",
    "    i += sqs\n",
    "m = m.reshape((w, h))\n",
    "# Gotta find a width and height balance such that sum of rounded numbers == st\n",
    "if i != st:\n",
    "    raise ValueError(f\"i == {i} != st ({st})\")"
   ]
  },
  {
   "cell_type": "code",
   "execution_count": 15,
   "id": "ef096560-6282-435d-8a8e-3e5cd0f11030",
   "metadata": {},
   "outputs": [],
   "source": [
    "color_cats = np.max(m)\n",
    "w_pal = pal[:9] + [pal[-3], pal[-1]]\n",
    "colorscale = []\n",
    "for i, c in enumerate(w_pal[::-1]):\n",
    "    v1 = (i / color_cats, c)\n",
    "    v2 = ((i + 1) / color_cats, c)\n",
    "    colorscale += [v1, v2]"
   ]
  },
  {
   "cell_type": "code",
   "execution_count": 16,
   "id": "4f60c239-4280-45b8-89b4-c9475aa8be48",
   "metadata": {},
   "outputs": [
    {
     "data": {
      "text/html": [
       "<iframe\n",
       "    scrolling=\"no\"\n",
       "    width=\"370px\"\n",
       "    height=\"545px\"\n",
       "    src=\"iframe_figures/figure_16.html\"\n",
       "    frameborder=\"0\"\n",
       "    allowfullscreen\n",
       "></iframe>\n"
      ]
     },
     "metadata": {},
     "output_type": "display_data"
    }
   ],
   "source": [
    "ticks = np.linspace(1, color_cats, 2 * color_cats + 1)\n",
    "labels = list(new_data.keys())[::-1]\n",
    "ticktexts = [labels[i // 2] if i % 2 == 1 else \"\" for i in range(0, 2 * color_cats + 1)]\n",
    "colorbar = go.heatmap.ColorBar(\n",
    "    title=\"Order\",\n",
    "    lenmode=\"pixels\",\n",
    "    len=15 * (color_cats + 2),\n",
    "    thickness=15,\n",
    "    tickvals=ticks,\n",
    "    ticktext=ticktexts,\n",
    "    tickmode=\"array\",\n",
    "    tickfont_size=8,\n",
    "    yanchor=\"top\",\n",
    "    y=1,\n",
    "    ypad=0\n",
    "    \n",
    ")\n",
    "fig = go.Figure(go.Heatmap(\n",
    "    z=m,\n",
    "    colorscale=colorscale,\n",
    "    colorbar=colorbar,\n",
    "    xgap=3,\n",
    "    ygap=3\n",
    "))\n",
    "fig.update_layout(\n",
    "    width=350,\n",
    "    xaxis=dict(showgrid=False, showticklabels=False),\n",
    "    yaxis=dict(showgrid=False, showticklabels=False, scaleanchor=\"x\"),\n",
    "    plot_bgcolor=\"rgba(0, 0, 0, 0)\"\n",
    ")\n",
    "\n",
    "def add_lines_y(ranges, colors, texts):\n",
    "    for rng, color, text in zip(zip(ranges, ranges[1:]), colors, texts):\n",
    "        pos = dict(x0=-0.8, y0=rng[0] - 0.3, x1=-0.8, y1=rng[1] - 0.7)\n",
    "        fig.add_shape(\n",
    "            type=\"line\",\n",
    "            line=dict(color=color, width=1),\n",
    "            **pos\n",
    "        )\n",
    "        fig.add_annotation(\n",
    "            text=text,\n",
    "            xanchor=\"right\",\n",
    "            x=pos[\"x0\"],\n",
    "            y=(pos[\"y0\"] + pos[\"y1\"]) / 2,\n",
    "            font_size=8,\n",
    "            align=\"right\",\n",
    "            showarrow=False,\n",
    "            xshift=-4\n",
    "        )\n",
    "        \n",
    "def add_lines_x(ranges, colors, texts):\n",
    "    for rng, color, text in zip(zip(ranges, ranges[1:]), colors, texts):\n",
    "        pos = dict(x0=rng[0] - 0.3, y0=len(m) - 0.2, x1=rng[1] - 0.7, y1=len(m) - 0.2)\n",
    "        fig.add_shape(\n",
    "            type=\"line\",\n",
    "            line=dict(color=color, width=1),\n",
    "            **pos\n",
    "        )\n",
    "        fig.add_annotation(\n",
    "            text=text,\n",
    "            yanchor=\"bottom\",\n",
    "            x=(pos[\"x0\"] + pos[\"x1\"]) / 2,\n",
    "            y=pos[\"y0\"],\n",
    "            font_size=8,\n",
    "            align=\"right\",\n",
    "            showarrow=False\n",
    "        )\n",
    "\n",
    "# Remove comment to add more info to chart\n",
    "# add_lines_y([0, 9, 14, 16, 18, 19, 20], pal[::-1][1:], list(new_data.values())[:6])\n",
    "# add_lines_x([0, 3, 4, 5, 6, 9], pal[:5][::-1], list(new_data.values())[6:])\n",
    "fig.show(\"iframe\")"
   ]
  },
  {
   "cell_type": "code",
   "execution_count": 17,
   "id": "b47f8c87-b988-42c9-91bc-e1aa246a428a",
   "metadata": {},
   "outputs": [],
   "source": [
    "fig.write_image(\"waffle_chart.pdf\")"
   ]
  },
  {
   "cell_type": "markdown",
   "id": "726c6836-8cd4-4377-ac77-d36005c138fb",
   "metadata": {},
   "source": [
    "## ERVs TRIM5 dup correlation"
   ]
  },
  {
   "cell_type": "code",
   "execution_count": 55,
   "id": "bdddef2f-5189-4eea-a45a-56807f10c913",
   "metadata": {},
   "outputs": [],
   "source": [
    "df = pd.read_csv(\"../ervs_trim5.csv\", sep=';', index_col=0)\n",
    "df.sort_values(\"ERVs\", inplace=True)\n",
    "dfc = pd.read_csv(\"../cluster_seqs.csv\", sep=';', index_col=0)\n",
    "dfc = dfc[dfc[\"TreeStatus\"] == \"INCLUDED\"]\n",
    "for sp in df.index:\n",
    "    df.loc[sp, \"TRIM count\"] = sum(dfc[\"Species\"] == sp)\n",
    "    \n",
    "df = pd.DataFrame({\n",
    "    \"ERVs\": [0, 1, 2, 3, 4, 5],\n",
    "    \"TRIM count\": [0, 1, 8, 27, 64, 125],\n",
    "    \"TRIM5 count\": [0, 2, 4, 6, 8, 10],\n",
    "    \"Order\": df[\"Order\"][:6]\n",
    "})\n",
    "\n",
    "data_ = dict(data)\n",
    "del data_[\"Others\"]\n",
    "pal_map = dict(zip(data_.keys(), pal))\n",
    "for sp in df.index:\n",
    "    df.loc[sp, \"Color\"] = pal_map[df.loc[sp, \"Order\"]]"
   ]
  },
  {
   "cell_type": "code",
   "execution_count": 56,
   "id": "02dc6751-bbcc-4ea9-8079-06616d816985",
   "metadata": {},
   "outputs": [
    {
     "name": "stdout",
     "output_type": "stream",
     "text": [
      "                 Generalized Linear Model Regression Results                  \n",
      "==============================================================================\n",
      "Dep. Variable:                      y   No. Observations:                    6\n",
      "Model:                            GLM   Df Residuals:                        4\n",
      "Model Family:                 Poisson   Df Model:                            1\n",
      "Link Function:                    Log   Scale:                          1.0000\n",
      "Method:                          IRLS   Log-Likelihood:                -16.366\n",
      "Date:                Tue, 30 Aug 2022   Deviance:                       8.9869\n",
      "Time:                        15:22:25   Pearson chi2:                     6.97\n",
      "No. Iterations:                     6   Pseudo R-squ. (CS):              1.000\n",
      "Covariance Type:            nonrobust                                         \n",
      "==============================================================================\n",
      "                 coef    std err          z      P>|z|      [0.025      0.975]\n",
      "------------------------------------------------------------------------------\n",
      "const          0.3589      0.301      1.191      0.234      -0.232       0.949\n",
      "x1             0.9092      0.068     13.463      0.000       0.777       1.042\n",
      "==============================================================================\n",
      "                 Generalized Linear Model Regression Results                  \n",
      "==============================================================================\n",
      "Dep. Variable:                      y   No. Observations:                    6\n",
      "Model:                            GLM   Df Residuals:                        4\n",
      "Model Family:                 Poisson   Df Model:                            1\n",
      "Link Function:                    Log   Scale:                          1.0000\n",
      "Method:                          IRLS   Log-Likelihood:                -10.489\n",
      "Date:                Tue, 30 Aug 2022   Deviance:                       3.3453\n",
      "Time:                        15:22:25   Pearson chi2:                     2.15\n",
      "No. Iterations:                     4   Pseudo R-squ. (CS):             0.9148\n",
      "Covariance Type:            nonrobust                                         \n",
      "==============================================================================\n",
      "                 coef    std err          z      P>|z|      [0.025      0.975]\n",
      "------------------------------------------------------------------------------\n",
      "const          0.2163      0.498      0.434      0.664      -0.761       1.193\n",
      "x1             0.4471      0.126      3.535      0.000       0.199       0.695\n",
      "==============================================================================\n"
     ]
    },
    {
     "data": {
      "text/html": [
       "<iframe\n",
       "    scrolling=\"no\"\n",
       "    width=\"820px\"\n",
       "    height=\"820\"\n",
       "    src=\"iframe_figures/figure_56.html\"\n",
       "    frameborder=\"0\"\n",
       "    allowfullscreen\n",
       "></iframe>\n"
      ]
     },
     "metadata": {},
     "output_type": "display_data"
    }
   ],
   "source": [
    "fig = make_subplots(2, 1, shared_xaxes=True, x_title=\"% of ERVs in the genome\", vertical_spacing=0.03)\n",
    "\n",
    "for row, df_col in enumerate([\"TRIM count\", \"TRIM5 count\"], 1):\n",
    "    X = sm.add_constant(df[\"ERVs\"].values)\n",
    "    y = df[df_col].values\n",
    "    model = sm.GLM(y, X, family=sm.families.Poisson()).fit()\n",
    "    pred = model.get_prediction(X).summary_frame()\n",
    "    print(model.summary())\n",
    "    \n",
    "    scatter = go.Scatter(\n",
    "        x=df[\"ERVs\"],\n",
    "        y=df[df_col],\n",
    "        mode=\"markers\",\n",
    "        marker_color=df[\"Color\"],\n",
    "        marker_size=8,\n",
    "        marker_line_width=0.5,\n",
    "        hovertext=df.index\n",
    "    )\n",
    "        \n",
    "    regr = go.Scatter(\n",
    "        x=df[\"ERVs\"],\n",
    "        y=pred[\"mean\"],\n",
    "        mode=\"lines\",\n",
    "        line_color=\"rgba(0, 0, 0, 0.2)\"\n",
    "    )\n",
    "\n",
    "    x = list(df[\"ERVs\"])\n",
    "    y_l = list(pred[\"mean_ci_lower\"])\n",
    "    y_u = list(pred[\"mean_ci_upper\"])\n",
    "    regr_shadow = go.Scatter(\n",
    "        x=x + x[::-1],\n",
    "        y=y_u + y_l[::-1],\n",
    "        fill='toself',\n",
    "        fillcolor='rgba(0, 0, 0, 0.1)',\n",
    "        line=dict(color='rgba(0, 0, 0, 0)'),\n",
    "        hoverinfo=\"skip\"\n",
    "    )\n",
    "    fig.add_trace(scatter, row=row, col=1)\n",
    "    fig.add_trace(regr, row=row, col=1)\n",
    "    fig.add_trace(regr_shadow, row=row, col=1)\n",
    "\n",
    "fig.update_layout(\n",
    "    template=\"plotly_white\",\n",
    "    width=800,\n",
    "    height=800,\n",
    "    showlegend=False\n",
    ")\n",
    "fig.update_yaxes(title=\"TRIM count\", row=1, col=1)\n",
    "fig.update_yaxes(title=\"TRIM5 count\", row=2, col=1)\n",
    "fig.show(\"iframe\")"
   ]
  },
  {
   "cell_type": "code",
   "execution_count": 20,
   "id": "3c868faf-3bb9-4052-99d8-377c2cfe9f6d",
   "metadata": {},
   "outputs": [],
   "source": [
    "fig.write_image(\"erv_dup_corr.pdf\")"
   ]
  },
  {
   "cell_type": "code",
   "execution_count": null,
   "id": "c84d3f5f-8956-4e2b-b37e-d24898f37373",
   "metadata": {},
   "outputs": [],
   "source": []
  }
 ],
 "metadata": {
  "kernelspec": {
   "display_name": "Python 3 (ipykernel)",
   "language": "python",
   "name": "python3"
  },
  "language_info": {
   "codemirror_mode": {
    "name": "ipython",
    "version": 3
   },
   "file_extension": ".py",
   "mimetype": "text/x-python",
   "name": "python",
   "nbconvert_exporter": "python",
   "pygments_lexer": "ipython3",
   "version": "3.10.5"
  }
 },
 "nbformat": 4,
 "nbformat_minor": 5
}
