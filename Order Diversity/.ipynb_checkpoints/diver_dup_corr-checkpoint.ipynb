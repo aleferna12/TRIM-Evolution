{
 "cells": [
  {
   "cell_type": "code",
   "execution_count": 2,
   "id": "019b23c5-86f3-4a98-88f7-c0599d587ca9",
   "metadata": {},
   "outputs": [],
   "source": [
    "import plotly.express as px\n",
    "import pandas as pd\n",
    "from ete3 import Tree"
   ]
  },
  {
   "cell_type": "code",
   "execution_count": null,
   "id": "89067a10-4b81-40d1-9e21-30b043b96d39",
   "metadata": {},
   "outputs": [],
   "source": [
    "t = Tree(\"../Final Tree/final.tree\")\n",
    "t.prune"
   ]
  }
 ],
 "metadata": {
  "kernelspec": {
   "display_name": "Python 3 (ipykernel)",
   "language": "python",
   "name": "python3"
  },
  "language_info": {
   "codemirror_mode": {
    "name": "ipython",
    "version": 3
   },
   "file_extension": ".py",
   "mimetype": "text/x-python",
   "name": "python",
   "nbconvert_exporter": "python",
   "pygments_lexer": "ipython3",
   "version": "3.10.5"
  }
 },
 "nbformat": 4,
 "nbformat_minor": 5
}
